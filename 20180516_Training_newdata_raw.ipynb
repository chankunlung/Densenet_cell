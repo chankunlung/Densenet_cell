{
 "cells": [
  {
   "cell_type": "markdown",
   "metadata": {},
   "source": [
    "# Training script"
   ]
  },
  {
   "cell_type": "markdown",
   "metadata": {},
   "source": [
    "## Dependencies"
   ]
  },
  {
   "cell_type": "code",
   "execution_count": 9,
   "metadata": {
    "ExecuteTime": {
     "end_time": "2018-03-12T01:15:37.712378Z",
     "start_time": "2018-03-12T01:15:37.166067Z"
    }
   },
   "outputs": [],
   "source": [
    "import torch\n",
    "import torch.nn as nn\n",
    "import torch.nn.init as init\n",
    "import torch.optim as optim\n",
    "import torch.nn.functional as F\n",
    "from torch.autograd import Variable\n",
    "import torchvision.datasets as datasets\n",
    "import torchvision.transforms as transforms\n",
    "from torch.utils.data import DataLoader\n",
    "import torchvision.models as models\n",
    "import torch.backends.cudnn as cudnn\n",
    "import torchvision\n",
    "import torch.autograd as autograd\n",
    "\n",
    "import imp\n",
    "import os\n",
    "import sys\n",
    "import math\n",
    "import time\n",
    "import random\n",
    "import shutil\n",
    "\n",
    "from tqdm import tqdm\n",
    "import numpy as np\n",
    "\n"
   ]
  },
  {
   "cell_type": "code",
   "execution_count": 10,
   "metadata": {},
   "outputs": [
    {
     "name": "stdout",
     "output_type": "stream",
     "text": [
      "cuda version is 9.0.176\n"
     ]
    }
   ],
   "source": [
    "print(\"cuda version is \"+torch.version.cuda)"
   ]
  },
  {
   "cell_type": "markdown",
   "metadata": {},
   "source": [
    "## Data processing and loading\n",
    "\n",
    "### Categories mapping:\n",
    "\n",
    "0 - background <br />\n",
    "1 - boundary <br />\n",
    "2 - cytoplasm <br />"
   ]
  },
  {
   "cell_type": "code",
   "execution_count": 11,
   "metadata": {
    "ExecuteTime": {
     "end_time": "2018-03-12T01:15:37.768384Z",
     "start_time": "2018-03-12T01:15:37.713855Z"
    }
   },
   "outputs": [],
   "source": [
    "import cv2\n",
    "import random\n",
    "\n",
    "class JointRandomCrop(object):\n",
    "    \"\"\"Crops the given list of images at random location to have a region of\n",
    "    the given size. size can be a tuple (target_height, target_width)\n",
    "    or an integer, in which case the target will be of a square shape (size, size)\n",
    "    \"\"\"\n",
    "\n",
    "    def __init__(self, size, padding=0):\n",
    "        if isinstance(size, int):\n",
    "            self.size = (int(size), int(size))\n",
    "        else:\n",
    "            self.size = size\n",
    "\n",
    "    def __call__(self, imgs):\n",
    "        h, w = imgs[0].shape\n",
    "        th, tw = self.size\n",
    "        if w == tw and h == th:\n",
    "            return imgs\n",
    "\n",
    "        x1 = random.randint(0, w - tw - 2)\n",
    "        y1 = random.randint(0, h - th - 2)\n",
    "        return [img[x1: x1 + tw, y1: y1 + th] for img in imgs]\n",
    "\n",
    "\n",
    "class JointRandomHorizontalFlip(object):\n",
    "    \"\"\"Randomly horizontally flips the given list of PIL.Image with a probability of 0.5\n",
    "    \"\"\"\n",
    "\n",
    "    def __call__(self, imgs):\n",
    "        if random.random() < 0.5:\n",
    "            return [cv2.flip(img, 1) for img in imgs]\n",
    "        return imgs"
   ]
  },
  {
   "cell_type": "code",
   "execution_count": 12,
   "metadata": {
    "ExecuteTime": {
     "end_time": "2018-03-12T01:15:38.003974Z",
     "start_time": "2018-03-12T01:15:37.769974Z"
    }
   },
   "outputs": [],
   "source": [
    "# Data loader\n",
    "import os\n",
    "import os.path as op\n",
    "from collections import namedtuple\n",
    "from random import shuffle\n",
    "import numpy as np\n",
    "from PIL import Image\n",
    "import matplotlib.pyplot as plt\n",
    "import torch\n",
    "\n",
    "\n",
    "Sample = namedtuple('Sample', ['boundary', 'cytoplasm', 'raw'])\n",
    "\n",
    "class DataLoader(object):\n",
    "    def __init__(self, data_dir, batch_size, shuffle=True, size=(224, 224)):\n",
    "        self.data_dir = data_dir\n",
    "        self.__find_images()\n",
    "        self.batch_size = batch_size\n",
    "        self.shuffle = shuffle\n",
    "        if size is None:\n",
    "            sample = cv2.imread(self.images[0].raw)\n",
    "            self.size = (sample.shape[0], sample.shape[1])\n",
    "        else:\n",
    "            self.size = size\n",
    "        self.transforms = [JointRandomCrop(self.size), JointRandomHorizontalFlip()]\n",
    "        self.batch_num = int(np.ceil(len(self.images)) / float(batch_size))\n",
    "        \n",
    "    def __find_images(self):\n",
    "        self.images = []\n",
    "        subdirs = sorted(os.listdir(self.data_dir))\n",
    "        for subdir in subdirs:\n",
    "            abs_path = op.join(self.data_dir, subdir)\n",
    "            self.images.append(Sample(op.join(abs_path, 'feature_0.png'),\n",
    "                                      op.join(abs_path, 'feature_1.png'),\n",
    "                                      op.join(abs_path, 'rawphase.png')))\n",
    "    \n",
    "    def __load_data(self, samples):\n",
    "        inputs = np.zeros((len(samples), 1, self.size[0], self.size[1]))\n",
    "        labels = np.zeros((len(samples), 3, self.size[0], self.size[1]))\n",
    "        \n",
    "        for i, sample in enumerate(samples):\n",
    "            raw = cv2.imread(sample.raw, 0)\n",
    "            boundary = cv2.imread(sample.boundary, 0)\n",
    "            cytoplasm = cv2.imread(sample.cytoplasm, 0)\n",
    "            \n",
    "            # apply transforms\n",
    "            for transform in self.transforms:\n",
    "                raw, boundary, cytoplasm = transform([raw, boundary, cytoplasm])\n",
    "            \n",
    "            # Change values to binary\n",
    "            boundary[np.where(boundary > 0)] = 1\n",
    "            \n",
    "            cytoplasm[np.where(cytoplasm > 0)] = 1\n",
    "            cytoplasm[np.where(boundary > 0)] = 0\n",
    "            \n",
    "            background = np.ones(cytoplasm.shape)\n",
    "            background -= (cytoplasm + boundary)\n",
    "            \n",
    "            labels[i, 0, ...] = background[:]\n",
    "            labels[i, 1, ...] = boundary[:]\n",
    "            labels[i, 2, ...] = cytoplasm[:]\n",
    "            \n",
    "            inputs[i, 0, ...] = raw[:]\n",
    "            \n",
    "        labels = np.argmax(labels, 1)\n",
    "        return torch.from_numpy(inputs / 255.).float(), torch.from_numpy(labels).long()\n",
    "    \n",
    "    def __iter__(self):\n",
    "        if self.shuffle:\n",
    "            shuffle(self.images)\n",
    "        for i in range(0, len(self.images), self.batch_size):\n",
    "            yield self.__load_data(self.images[i: i+self.batch_size])"
   ]
  },
  {
   "cell_type": "markdown",
   "metadata": {},
   "source": [
    "## Layers"
   ]
  },
  {
   "cell_type": "code",
   "execution_count": 13,
   "metadata": {
    "ExecuteTime": {
     "end_time": "2018-03-12T01:15:38.177477Z",
     "start_time": "2018-03-12T01:15:38.005502Z"
    }
   },
   "outputs": [],
   "source": [
    "import torch.nn as nn\n",
    "\n",
    "\n",
    "def center_crop(layer, max_height, max_width):\n",
    "    #https://github.com/Lasagne/Lasagne/blob/master/lasagne/layers/merge.py#L162\n",
    "    #Author does a center crop which crops both inputs (skip and upsample) to size of minimum dimension on both w/h\n",
    "    batch_size, n_channels, layer_height, layer_width = layer.size()\n",
    "    xy1 = (layer_width - max_width) // 2\n",
    "    xy2 = (layer_height - max_height) // 2\n",
    "    return layer[:, :, xy2:(xy2 + max_height), xy1:(xy1 + max_width)]\n",
    "\n",
    "class DenseLayer(nn.Sequential):\n",
    "    def __init__(self, in_channels, growth_rate):\n",
    "        super(DenseLayer, self).__init__()\n",
    "        self.add_module('norm', nn.BatchNorm2d(num_features=in_channels))\n",
    "        self.add_module('relu', nn.ReLU(inplace=True))\n",
    "        \n",
    "        #author's impl - lasange 'same' pads with half \n",
    "        # filter size (rounded down) on \"both\" sides\n",
    "        self.add_module('conv', nn.Conv2d(in_channels=in_channels, \n",
    "                out_channels=growth_rate, kernel_size=3, stride=1, \n",
    "                  padding=1, bias=True))\n",
    "        \n",
    "        self.add_module('drop', nn.Dropout2d(0.2))\n",
    "\n",
    "    def forward(self, x):\n",
    "        return super(DenseLayer, self).forward(x)\n",
    "\n",
    "class DenseBlock(nn.Module):\n",
    "    def __init__(self, in_channels, growth_rate, n_layers, upsample=False):\n",
    "        super(DenseBlock, self).__init__()\n",
    "        self.upsample = upsample\n",
    "        self.layers = nn.ModuleList([DenseLayer(\n",
    "            in_channels + i*growth_rate, growth_rate)\n",
    "            for i in range(n_layers)])\n",
    "        \n",
    "    def forward(self, x):\n",
    "        if self.upsample:\n",
    "            new_features = []\n",
    "            #we pass all previous activations into each dense layer normally\n",
    "            #But we only store each dense layer's output in the new_features array\n",
    "            for layer in self.layers:\n",
    "                out = layer(x)\n",
    "                x = torch.cat([x, out], 1)\n",
    "                new_features.append(out)\n",
    "            return torch.cat(new_features,1)\n",
    "        else:\n",
    "            for layer in self.layers:\n",
    "                out = layer(x)\n",
    "                x = torch.cat([x, out], 1) # 1 = channel axis\n",
    "            return x \n",
    "    \n",
    "class TransitionDown(nn.Sequential):\n",
    "    def __init__(self, in_channels):\n",
    "        super(TransitionDown, self).__init__()\n",
    "        self.add_module('norm', nn.BatchNorm2d(num_features=in_channels))\n",
    "        self.add_module('relu', nn.ReLU(inplace=True))\n",
    "        self.add_module('conv', nn.Conv2d(in_channels=in_channels, \n",
    "              out_channels=in_channels, kernel_size=1, stride=1, \n",
    "                padding=0, bias=True))\n",
    "        self.add_module('drop', nn.Dropout2d(0.2))\n",
    "        self.add_module('maxpool', nn.MaxPool2d(2))\n",
    "        \n",
    "    def forward(self, x):\n",
    "        return super(TransitionDown, self).forward(x)\n",
    "    \n",
    "class TransitionUp(nn.Module):\n",
    "    def __init__(self, in_channels, out_channels):\n",
    "        super(TransitionUp, self).__init__()\n",
    "        self.convTrans = nn.ConvTranspose2d(in_channels=in_channels, \n",
    "               out_channels=out_channels, kernel_size=3, stride=2, \n",
    "              padding=0, bias=True) #crop = 'valid' means padding=0. Padding has reverse effect for transpose conv (reduces output size)\n",
    "        #http://lasagne.readthedocs.io/en/latest/modules/layers/conv.html#lasagne.layers.TransposedConv2DLayer\n",
    "        #self.updample2d = nn.UpsamplingBilinear2d(scale_factor=2)\n",
    "        \n",
    "    def forward(self, x, skip):\n",
    "        out = self.convTrans(x)\n",
    "        out = center_crop(out, skip.size(2), skip.size(3))\n",
    "        out = torch.cat([out, skip], 1)\n",
    "        return out\n",
    "    \n",
    "class Bottleneck(nn.Sequential):\n",
    "    def __init__(self, in_channels, growth_rate, n_layers):\n",
    "        super(Bottleneck, self).__init__()\n",
    "        self.add_module('bottleneck', DenseBlock(in_channels, growth_rate, n_layers, upsample=True))\n",
    "\n",
    "    def forward(self, x):\n",
    "        return super(Bottleneck, self).forward(x)"
   ]
  },
  {
   "cell_type": "markdown",
   "metadata": {},
   "source": [
    "## Model"
   ]
  },
  {
   "cell_type": "code",
   "execution_count": 14,
   "metadata": {
    "ExecuteTime": {
     "end_time": "2018-03-12T01:15:38.403119Z",
     "start_time": "2018-03-12T01:15:38.178723Z"
    }
   },
   "outputs": [],
   "source": [
    "class FCDenseNet(nn.Module):\n",
    "    def __init__(self, in_channels=1, down_blocks=(5,5,5,5,5), \n",
    "                 up_blocks=(5,5,5,5,5), bottleneck_layers=5, \n",
    "                 growth_rate=16, out_chans_first_conv=48, n_classes=3):\n",
    "        super(FCDenseNet, self).__init__()\n",
    "        self.down_blocks = down_blocks\n",
    "        self.up_blocks = up_blocks\n",
    "        \n",
    "        cur_channels_count = 0\n",
    "        skip_connection_channel_counts = []\n",
    "        \n",
    "        \n",
    "        #####################\n",
    "        # First Convolution #\n",
    "        #####################\n",
    "\n",
    "        self.add_module('firstconv', nn.Conv2d(in_channels=in_channels, \n",
    "                  out_channels=out_chans_first_conv, kernel_size=3, \n",
    "                  stride=1, padding=1, bias=True))\n",
    "        cur_channels_count = out_chans_first_conv\n",
    "        \n",
    "        \n",
    "        \n",
    "        #####################\n",
    "        # Downsampling path #\n",
    "        #####################\n",
    "        \n",
    "        self.denseBlocksDown = nn.ModuleList([])\n",
    "        self.transDownBlocks = nn.ModuleList([])\n",
    "        for i in range(len(down_blocks)):\n",
    "            self.denseBlocksDown.append(\n",
    "                DenseBlock(cur_channels_count, growth_rate, down_blocks[i]))\n",
    "            cur_channels_count += (growth_rate*down_blocks[i])\n",
    "            skip_connection_channel_counts.insert(0,cur_channels_count)\n",
    "            self.transDownBlocks.append(TransitionDown(cur_channels_count))\n",
    "            \n",
    "            \n",
    "            \n",
    "        #####################\n",
    "        #     Bottleneck    #\n",
    "        #####################\n",
    "        \n",
    "        self.add_module('bottleneck',Bottleneck(cur_channels_count, \n",
    "                                     growth_rate, bottleneck_layers))\n",
    "        prev_block_channels = growth_rate*bottleneck_layers\n",
    "        cur_channels_count += prev_block_channels \n",
    "        \n",
    "        \n",
    "        \n",
    "        #######################\n",
    "        #   Upsampling path   #\n",
    "        #######################\n",
    "\n",
    "        self.transUpBlocks = nn.ModuleList([])\n",
    "        self.denseBlocksUp = nn.ModuleList([])\n",
    "        for i in range(len(up_blocks)-1):\n",
    "            self.transUpBlocks.append(TransitionUp(prev_block_channels, prev_block_channels))\n",
    "            cur_channels_count = prev_block_channels + skip_connection_channel_counts[i]\n",
    "\n",
    "            self.denseBlocksUp.append(DenseBlock(\n",
    "                cur_channels_count, growth_rate, up_blocks[i], \n",
    "                    upsample=True))\n",
    "            prev_block_channels = growth_rate*up_blocks[i]\n",
    "            cur_channels_count += prev_block_channels\n",
    "\n",
    "            \n",
    "        #One final dense block\n",
    "        self.transUpBlocks.append(TransitionUp(\n",
    "            prev_block_channels, prev_block_channels))\n",
    "        cur_channels_count = prev_block_channels + skip_connection_channel_counts[-1]\n",
    "\n",
    "        self.denseBlocksUp.append(DenseBlock(\n",
    "            cur_channels_count, growth_rate, up_blocks[-1], \n",
    "                upsample=False))\n",
    "        cur_channels_count += growth_rate*up_blocks[-1]\n",
    "\n",
    "        \n",
    "        \n",
    "        #####################\n",
    "        #      Softmax      #\n",
    "        #####################\n",
    "\n",
    "        self.finalConv = nn.Conv2d(in_channels=cur_channels_count, \n",
    "               out_channels=n_classes, kernel_size=1, stride=1, \n",
    "                   padding=0, bias=True)\n",
    "        self.softmax = nn.LogSoftmax()\n",
    "        \n",
    "    def forward(self, x):\n",
    "        #print(\"INPUT\",x.size())\n",
    "        out = self.firstconv(x)\n",
    "        \n",
    "        skip_connections = []\n",
    "        for i in range(len(self.down_blocks)):\n",
    "            #print(\"DBD size\",out.size())\n",
    "            out = self.denseBlocksDown[i](out)\n",
    "            skip_connections.append(out)\n",
    "            out = self.transDownBlocks[i](out)\n",
    "            \n",
    "        out = self.bottleneck(out)\n",
    "        #print (\"bnecksize\",out.size())\n",
    "        for i in range(len(self.up_blocks)):\n",
    "            skip = skip_connections.pop()\n",
    "            #print(\"DOWN_SKIP_PRE_UPSAMPLE\",out.size(),skip.size())\n",
    "            out = self.transUpBlocks[i](out, skip)\n",
    "            #print(\"DOWN_SKIP_AFT_UPSAMPLE\",out.size(),skip.size())\n",
    "            out = self.denseBlocksUp[i](out)\n",
    "            \n",
    "        out = self.finalConv(out)\n",
    "        out = self.softmax(out)\n",
    "        return out\n",
    "    \n",
    "def FCDenseNet57(n_classes):\n",
    "    return FCDenseNet(in_channels=1, down_blocks=(4, 4, 4, 4, 4), \n",
    "                 up_blocks=(4, 4, 4, 4, 4), bottleneck_layers=4, \n",
    "                 growth_rate=12, out_chans_first_conv=48, n_classes=n_classes)\n",
    "\n",
    "def FCDenseNet67(n_classes):\n",
    "    return FCDenseNet(in_channels=1, down_blocks=(5, 5, 5, 5, 5), \n",
    "                 up_blocks=(5, 5, 5, 5, 5), bottleneck_layers=5, \n",
    "                 growth_rate=16, out_chans_first_conv=48, n_classes=n_classes)\n",
    "\n",
    "def FCDenseNet103(n_classes):\n",
    "    return FCDenseNet(in_channels=1, down_blocks=(4,5,7,10,12), \n",
    "                 up_blocks=(12,10,7,5,4), bottleneck_layers=15, \n",
    "                 growth_rate=16, out_chans_first_conv=48, n_classes=n_classes)"
   ]
  },
  {
   "cell_type": "markdown",
   "metadata": {},
   "source": [
    "## Training"
   ]
  },
  {
   "cell_type": "code",
   "execution_count": 15,
   "metadata": {
    "ExecuteTime": {
     "end_time": "2018-03-12T01:15:38.787103Z",
     "start_time": "2018-03-12T01:15:38.404472Z"
    }
   },
   "outputs": [],
   "source": [
    "from sklearn.metrics import accuracy_score\n",
    "\n",
    "def accuracy(preds, targets):\n",
    "    targets = np.array(targets).flatten()\n",
    "    preds = np.array(preds).flatten()\n",
    "    \n",
    "    return accuracy_score(targets, preds)\n",
    "\n",
    "\n",
    "def get_predictions(outputs):\n",
    "    bs, c, h, w = outputs.size()\n",
    "    tensor = outputs.data\n",
    "    values, indices = tensor.cpu().max(1)\n",
    "    indices = indices.view(bs, h, w)\n",
    "    return indices\n",
    "\n",
    "\n",
    "def train(model, loader, optimizer, criterion):\n",
    "    losses, accuracies = [], []\n",
    "    model.train()\n",
    "    \n",
    "    with tqdm(total=loader.batch_num) as pbar:\n",
    "        for i, data in enumerate(loader):\n",
    "            inputs, labels = data\n",
    "            inputs, labels = Variable(inputs).cuda(), Variable(labels.long()).cuda()\n",
    "            optimizer.zero_grad()\n",
    "            \n",
    "            outputs = model(inputs)\n",
    "            loss = criterion(outputs, labels)\n",
    "            loss.backward()\n",
    "            optimizer.step()\n",
    "            \n",
    "            losses.append(loss.data[0])\n",
    "            \n",
    "            pred = get_predictions(outputs)\n",
    "            accuracies.append(accuracy(pred, labels.data.cpu()))\n",
    "            \n",
    "            pbar.update(1)\n",
    "            pbar.set_description('[Train] Loss: %.4f, Acc: %.4f' % (sum(losses) / float(len(losses)), \n",
    "                                                        sum(accuracies) / float(len(accuracies))))\n",
    "            torch.cuda.empty_cache()\n",
    "    return sum(losses) / float(len(losses)), sum(accuracies) / float(len(accuracies))\n",
    "            \n",
    "            \n",
    "def test(model, loader, criterion):\n",
    "    losses, accuracies = [], []\n",
    "    model.eval()\n",
    "    \n",
    "    with tqdm(total=loader.batch_num) as pbar:\n",
    "        for i, data in enumerate(loader):\n",
    "            inputs, labels = data\n",
    "            inputs, labels = Variable(inputs).cuda(), Variable(labels.long()).cuda()\n",
    "            \n",
    "            outputs = model(inputs)\n",
    "            losses.append(criterion(outputs, labels).data[0])\n",
    "            \n",
    "            preds = get_predictions(outputs)\n",
    "            accuracies.append(accuracy(preds, labels.data.cpu()))\n",
    "            \n",
    "            pbar.update(1)\n",
    "            pbar.set_description('[Test] Loss: %.4f, Acc: %.4f' % (sum(losses) / float(len(losses)),\n",
    "                                                           sum(accuracies) / float(len(accuracies))))\n",
    "            torch.cuda.empty_cache()\n",
    "    return sum(losses) / float(len(losses)), sum(accuracies) / float(len(accuracies))\n",
    "\n",
    "\n",
    "def update_lr(lr, decay, optimizer, current_epoch, n_epochs):\n",
    "    new_lr = lr * (decay ** (current_epoch // n_epochs))\n",
    "    for param_group in optimizer.param_groups:\n",
    "        param_group['lr'] = new_lr\n",
    "        \n",
    "        \n",
    "def weights_init(m):\n",
    "    if isinstance(m, nn.Conv2d):\n",
    "        init.kaiming_uniform(m.weight) \n",
    "        m.bias.data.zero_()\n",
    "        \n",
    "        \n",
    "class EarlyStoppingWatcher(object):\n",
    "    def __init__(self):\n",
    "        self.epoch = 0\n",
    "        self.best_val_loss = sys.maxsize\n",
    "        self.best_val_loss_epoch = 0\n",
    "        \n",
    "        \n",
    "    def update(self, epoch, val_loss):\n",
    "        if val_loss < self.best_val_loss:\n",
    "            self.best_val_loss = val_loss\n",
    "            self.best_val_loss_epoch = epoch\n",
    "            self.epoch += 1\n",
    "            \n",
    "    def is_the_best(self, val_loss):\n",
    "        if val_loss > self.best_val_loss:\n",
    "            return True\n",
    "        return False\n",
    "            \n",
    "class FileLogger(object):\n",
    "    pass"
   ]
  },
  {
   "cell_type": "code",
   "execution_count": 21,
   "metadata": {
    "ExecuteTime": {
     "end_time": "2018-03-12T01:15:38.797413Z",
     "start_time": "2018-03-12T01:15:38.788559Z"
    }
   },
   "outputs": [],
   "source": [
    "# DEFINE PATHS WITH TRAINING DATA, TEST DATA AND DIRECTORY TO SAVE RESULTS(wil be created if doesn't exist)\n",
    "\n",
    "train_directory = '/media/davince/DATA_HD/Cell electrotaxis/100sampletraining/'\n",
    "test_directory = '/media/davince/DATA_HD/Cell electrotaxis/100sampletraining/'\n",
    "\n",
    "ROOT_DIR = '/home/davince/Dropbox (OIST)/Deeplearning_system/OIST_fcdensenet_pytorch/20180516experiments/'\n",
    "EXPERIMENT_NAME = '03_45setraw'\n",
    "\n",
    "#  Training Hyperparameters\n",
    "\n",
    "N_CLASSES = 3\n",
    "\n",
    "EPOCHS = 1000\n",
    "LEARNING_RATE = 1e-3\n",
    "LR_DECAY = 0.995\n",
    "DECAY_LR_EVERY_N_EPOCHS = 1\n",
    "WEIGHT_DECAY = 0.0001\n",
    "BATCH_SIZE = 4\n",
    "MAX_PATIENCE = 50\n",
    "\n",
    "BACKGROUND_CLASS_WEIGHT = 1\n",
    "BOUNDARY_CLASS_WEIGHT = 2\n",
    "CYTOPLASM_CLASS_WEIGHT = 2\n",
    "\n",
    "SAVE_EVERY_N_EPOCHS = 1  # will save if epoch % save_every_epoch == 0"
   ]
  },
  {
   "cell_type": "markdown",
   "metadata": {},
   "source": [
    "## Run"
   ]
  },
  {
   "cell_type": "code",
   "execution_count": 22,
   "metadata": {
    "ExecuteTime": {
     "end_time": "2018-03-12T01:15:38.831493Z",
     "start_time": "2018-03-12T01:15:38.798614Z"
    }
   },
   "outputs": [],
   "source": [
    "def run(model, train_loader, test_loader, optimizer, criterion, weights_dir, watcher):\n",
    "    best_model_path = op.join(weights_dir, 'best_model.pth')\n",
    "    best_optim_path = op.join(weights_dir, 'best_optim.pth')\n",
    "    for epoch in range(EPOCHS):\n",
    "\n",
    "        print('Epoch [%d]' % epoch)\n",
    "        train_loss, train_acc = train(model, train_loader, optimizer, criterion)\n",
    "        test_loss, test_acc = test(model, test_loader, criterion)\n",
    "\n",
    "        if epoch % SAVE_EVERY_N_EPOCHS == 0:\n",
    "            weights_filename = '%s-%d-%.3f-%.3f.pth' % (EXPERIMENT_NAME, epoch, train_loss, test_loss)\n",
    "            weights_path= op.join(weights_dir, weights_filename)\n",
    "            torch.save({\n",
    "                \n",
    "                \n",
    "                    'last_epoch': epoch,\n",
    "                    'trn_loss': train_loss,\n",
    "                    'val_loss': test_loss,\n",
    "                    'trn_err': train_acc,\n",
    "                    'val_err': test_acc,\n",
    "                    'best_val_loss': watcher.best_val_loss,\n",
    "                    'best_val_loss_epoch': watcher.best_val_loss_epoch,\n",
    "                    'experiment': EXPERIMENT_NAME,\n",
    "                    'state_dict': model.state_dict()\n",
    "                }, weights_path )\n",
    "\n",
    "            optim_filename = 'optim-%d.pth' % epoch\n",
    "            optim_path = op.join(weights_dir, optim_filename)\n",
    "            torch.save({\n",
    "                    'last_epoch': epoch,\n",
    "                    'experiment': EXPERIMENT_NAME,\n",
    "                    'state_dict': optimizer.state_dict()\n",
    "                }, optim_path )\n",
    "            if watcher.is_the_best(test_loss):\n",
    "                shutil.copyfile(optim_path, best_optim_path)\n",
    "                shutil.copyfile(weights_path, best_model_path)\n",
    "\n",
    "        watcher.update(epoch, test_loss)\n",
    "        # early stopping\n",
    "        if (epoch - watcher.best_val_loss_epoch) > MAX_PATIENCE:\n",
    "            print((\"Early stopping at epoch %d since no \" \n",
    "                   + \"better loss found since epoch %d\") \n",
    "                   % (epoch, watcher.best_val_loss_epoch))\n",
    "            break\n",
    "\n",
    "        update_lr(LEARNING_RATE, LR_DECAY, optimizer, \n",
    "                 epoch, DECAY_LR_EVERY_N_EPOCHS)"
   ]
  },
  {
   "cell_type": "code",
   "execution_count": 23,
   "metadata": {
    "ExecuteTime": {
     "end_time": "2018-03-12T01:15:40.685055Z",
     "start_time": "2018-03-12T01:15:38.832608Z"
    }
   },
   "outputs": [
    {
     "name": "stdout",
     "output_type": "stream",
     "text": [
      "  + Number of params: 1374387\n"
     ]
    },
    {
     "name": "stderr",
     "output_type": "stream",
     "text": [
      "/home/davince/anaconda3/lib/python3.6/site-packages/ipykernel_launcher.py:75: UserWarning: nn.init.kaiming_uniform is now deprecated in favor of nn.init.kaiming_uniform_.\n",
      "/home/davince/anaconda3/lib/python3.6/site-packages/torch/nn/modules/loss.py:198: UserWarning: NLLLoss2d has been deprecated. Please use NLLLoss instead as a drop-in replacement and see http://pytorch.org/docs/master/nn.html#torch.nn.NLLLoss for more details.\n",
      "  warnings.warn(\"NLLLoss2d has been deprecated. \"\n"
     ]
    }
   ],
   "source": [
    "model = FCDenseNet57(n_classes=N_CLASSES)\n",
    "model.apply(weights_init)\n",
    "model.cuda()\n",
    "\n",
    "print('  + Number of params: {}'.format(\n",
    "    sum([p.data.nelement() for p in model.parameters()])))\n",
    "\n",
    "optimizer = optim.RMSprop(model.parameters(), lr=LEARNING_RATE, weight_decay=WEIGHT_DECAY)\n",
    "criterion = nn.NLLLoss2d(weight = torch.FloatTensor([BACKGROUND_CLASS_WEIGHT,\n",
    "                                                     BOUNDARY_CLASS_WEIGHT,\n",
    "                                                     CYTOPLASM_CLASS_WEIGHT]).cuda())\n",
    "\n",
    "watcher = EarlyStoppingWatcher()"
   ]
  },
  {
   "cell_type": "code",
   "execution_count": 24,
   "metadata": {
    "ExecuteTime": {
     "end_time": "2018-03-12T01:16:25.881999Z",
     "start_time": "2018-03-12T01:15:40.686422Z"
    },
    "scrolled": false
   },
   "outputs": [
    {
     "name": "stderr",
     "output_type": "stream",
     "text": [
      "\r",
      "  0%|          | 0/22 [00:00<?, ?it/s]"
     ]
    },
    {
     "name": "stdout",
     "output_type": "stream",
     "text": [
      "Epoch [0]\n"
     ]
    },
    {
     "name": "stderr",
     "output_type": "stream",
     "text": [
      "\n"
     ]
    },
    {
     "ename": "AttributeError",
     "evalue": "'NoneType' object has no attribute 'shape'",
     "output_type": "error",
     "traceback": [
      "\u001b[0;31m---------------------------------------------------------------------------\u001b[0m",
      "\u001b[0;31mAttributeError\u001b[0m                            Traceback (most recent call last)",
      "\u001b[0;32m<ipython-input-24-28642c5b1508>\u001b[0m in \u001b[0;36m<module>\u001b[0;34m()\u001b[0m\n\u001b[1;32m     11\u001b[0m \u001b[0mtest_loader\u001b[0m \u001b[0;34m=\u001b[0m \u001b[0mDataLoader\u001b[0m\u001b[0;34m(\u001b[0m\u001b[0mtest_directory\u001b[0m\u001b[0;34m,\u001b[0m \u001b[0mBATCH_SIZE\u001b[0m\u001b[0;34m)\u001b[0m\u001b[0;34m\u001b[0m\u001b[0m\n\u001b[1;32m     12\u001b[0m \u001b[0;34m\u001b[0m\u001b[0m\n\u001b[0;32m---> 13\u001b[0;31m \u001b[0mrun\u001b[0m\u001b[0;34m(\u001b[0m\u001b[0mmodel\u001b[0m\u001b[0;34m,\u001b[0m \u001b[0mtrain_loader\u001b[0m\u001b[0;34m,\u001b[0m \u001b[0mtest_loader\u001b[0m\u001b[0;34m,\u001b[0m \u001b[0moptimizer\u001b[0m\u001b[0;34m,\u001b[0m \u001b[0mcriterion\u001b[0m\u001b[0;34m,\u001b[0m \u001b[0mfirst_phase_dir\u001b[0m\u001b[0;34m,\u001b[0m \u001b[0mwatcher\u001b[0m\u001b[0;34m)\u001b[0m\u001b[0;34m\u001b[0m\u001b[0m\n\u001b[0m\u001b[1;32m     14\u001b[0m \u001b[0;34m\u001b[0m\u001b[0m\n\u001b[1;32m     15\u001b[0m \u001b[0mtorch\u001b[0m\u001b[0;34m.\u001b[0m\u001b[0mcuda\u001b[0m\u001b[0;34m.\u001b[0m\u001b[0mempty_cache\u001b[0m\u001b[0;34m(\u001b[0m\u001b[0;34m)\u001b[0m\u001b[0;34m\u001b[0m\u001b[0m\n",
      "\u001b[0;32m<ipython-input-22-9cc7e5dba9b9>\u001b[0m in \u001b[0;36mrun\u001b[0;34m(model, train_loader, test_loader, optimizer, criterion, weights_dir, watcher)\u001b[0m\n\u001b[1;32m      5\u001b[0m \u001b[0;34m\u001b[0m\u001b[0m\n\u001b[1;32m      6\u001b[0m         \u001b[0mprint\u001b[0m\u001b[0;34m(\u001b[0m\u001b[0;34m'Epoch [%d]'\u001b[0m \u001b[0;34m%\u001b[0m \u001b[0mepoch\u001b[0m\u001b[0;34m)\u001b[0m\u001b[0;34m\u001b[0m\u001b[0m\n\u001b[0;32m----> 7\u001b[0;31m         \u001b[0mtrain_loss\u001b[0m\u001b[0;34m,\u001b[0m \u001b[0mtrain_acc\u001b[0m \u001b[0;34m=\u001b[0m \u001b[0mtrain\u001b[0m\u001b[0;34m(\u001b[0m\u001b[0mmodel\u001b[0m\u001b[0;34m,\u001b[0m \u001b[0mtrain_loader\u001b[0m\u001b[0;34m,\u001b[0m \u001b[0moptimizer\u001b[0m\u001b[0;34m,\u001b[0m \u001b[0mcriterion\u001b[0m\u001b[0;34m)\u001b[0m\u001b[0;34m\u001b[0m\u001b[0m\n\u001b[0m\u001b[1;32m      8\u001b[0m         \u001b[0mtest_loss\u001b[0m\u001b[0;34m,\u001b[0m \u001b[0mtest_acc\u001b[0m \u001b[0;34m=\u001b[0m \u001b[0mtest\u001b[0m\u001b[0;34m(\u001b[0m\u001b[0mmodel\u001b[0m\u001b[0;34m,\u001b[0m \u001b[0mtest_loader\u001b[0m\u001b[0;34m,\u001b[0m \u001b[0mcriterion\u001b[0m\u001b[0;34m)\u001b[0m\u001b[0;34m\u001b[0m\u001b[0m\n\u001b[1;32m      9\u001b[0m \u001b[0;34m\u001b[0m\u001b[0m\n",
      "\u001b[0;32m<ipython-input-15-2f7b9445beda>\u001b[0m in \u001b[0;36mtrain\u001b[0;34m(model, loader, optimizer, criterion)\u001b[0m\n\u001b[1;32m     21\u001b[0m \u001b[0;34m\u001b[0m\u001b[0m\n\u001b[1;32m     22\u001b[0m     \u001b[0;32mwith\u001b[0m \u001b[0mtqdm\u001b[0m\u001b[0;34m(\u001b[0m\u001b[0mtotal\u001b[0m\u001b[0;34m=\u001b[0m\u001b[0mloader\u001b[0m\u001b[0;34m.\u001b[0m\u001b[0mbatch_num\u001b[0m\u001b[0;34m)\u001b[0m \u001b[0;32mas\u001b[0m \u001b[0mpbar\u001b[0m\u001b[0;34m:\u001b[0m\u001b[0;34m\u001b[0m\u001b[0m\n\u001b[0;32m---> 23\u001b[0;31m         \u001b[0;32mfor\u001b[0m \u001b[0mi\u001b[0m\u001b[0;34m,\u001b[0m \u001b[0mdata\u001b[0m \u001b[0;32min\u001b[0m \u001b[0menumerate\u001b[0m\u001b[0;34m(\u001b[0m\u001b[0mloader\u001b[0m\u001b[0;34m)\u001b[0m\u001b[0;34m:\u001b[0m\u001b[0;34m\u001b[0m\u001b[0m\n\u001b[0m\u001b[1;32m     24\u001b[0m             \u001b[0minputs\u001b[0m\u001b[0;34m,\u001b[0m \u001b[0mlabels\u001b[0m \u001b[0;34m=\u001b[0m \u001b[0mdata\u001b[0m\u001b[0;34m\u001b[0m\u001b[0m\n\u001b[1;32m     25\u001b[0m             \u001b[0minputs\u001b[0m\u001b[0;34m,\u001b[0m \u001b[0mlabels\u001b[0m \u001b[0;34m=\u001b[0m \u001b[0mVariable\u001b[0m\u001b[0;34m(\u001b[0m\u001b[0minputs\u001b[0m\u001b[0;34m)\u001b[0m\u001b[0;34m.\u001b[0m\u001b[0mcuda\u001b[0m\u001b[0;34m(\u001b[0m\u001b[0;34m)\u001b[0m\u001b[0;34m,\u001b[0m \u001b[0mVariable\u001b[0m\u001b[0;34m(\u001b[0m\u001b[0mlabels\u001b[0m\u001b[0;34m.\u001b[0m\u001b[0mlong\u001b[0m\u001b[0;34m(\u001b[0m\u001b[0;34m)\u001b[0m\u001b[0;34m)\u001b[0m\u001b[0;34m.\u001b[0m\u001b[0mcuda\u001b[0m\u001b[0;34m(\u001b[0m\u001b[0;34m)\u001b[0m\u001b[0;34m\u001b[0m\u001b[0m\n",
      "\u001b[0;32m<ipython-input-12-3c8a6eaa4cc3>\u001b[0m in \u001b[0;36m__iter__\u001b[0;34m(self)\u001b[0m\n\u001b[1;32m     70\u001b[0m             \u001b[0mshuffle\u001b[0m\u001b[0;34m(\u001b[0m\u001b[0mself\u001b[0m\u001b[0;34m.\u001b[0m\u001b[0mimages\u001b[0m\u001b[0;34m)\u001b[0m\u001b[0;34m\u001b[0m\u001b[0m\n\u001b[1;32m     71\u001b[0m         \u001b[0;32mfor\u001b[0m \u001b[0mi\u001b[0m \u001b[0;32min\u001b[0m \u001b[0mrange\u001b[0m\u001b[0;34m(\u001b[0m\u001b[0;36m0\u001b[0m\u001b[0;34m,\u001b[0m \u001b[0mlen\u001b[0m\u001b[0;34m(\u001b[0m\u001b[0mself\u001b[0m\u001b[0;34m.\u001b[0m\u001b[0mimages\u001b[0m\u001b[0;34m)\u001b[0m\u001b[0;34m,\u001b[0m \u001b[0mself\u001b[0m\u001b[0;34m.\u001b[0m\u001b[0mbatch_size\u001b[0m\u001b[0;34m)\u001b[0m\u001b[0;34m:\u001b[0m\u001b[0;34m\u001b[0m\u001b[0m\n\u001b[0;32m---> 72\u001b[0;31m             \u001b[0;32myield\u001b[0m \u001b[0mself\u001b[0m\u001b[0;34m.\u001b[0m\u001b[0m__load_data\u001b[0m\u001b[0;34m(\u001b[0m\u001b[0mself\u001b[0m\u001b[0;34m.\u001b[0m\u001b[0mimages\u001b[0m\u001b[0;34m[\u001b[0m\u001b[0mi\u001b[0m\u001b[0;34m:\u001b[0m \u001b[0mi\u001b[0m\u001b[0;34m+\u001b[0m\u001b[0mself\u001b[0m\u001b[0;34m.\u001b[0m\u001b[0mbatch_size\u001b[0m\u001b[0;34m]\u001b[0m\u001b[0;34m)\u001b[0m\u001b[0;34m\u001b[0m\u001b[0m\n\u001b[0m",
      "\u001b[0;32m<ipython-input-12-3c8a6eaa4cc3>\u001b[0m in \u001b[0;36m__load_data\u001b[0;34m(self, samples)\u001b[0m\n\u001b[1;32m     46\u001b[0m             \u001b[0;31m# apply transforms\u001b[0m\u001b[0;34m\u001b[0m\u001b[0;34m\u001b[0m\u001b[0m\n\u001b[1;32m     47\u001b[0m             \u001b[0;32mfor\u001b[0m \u001b[0mtransform\u001b[0m \u001b[0;32min\u001b[0m \u001b[0mself\u001b[0m\u001b[0;34m.\u001b[0m\u001b[0mtransforms\u001b[0m\u001b[0;34m:\u001b[0m\u001b[0;34m\u001b[0m\u001b[0m\n\u001b[0;32m---> 48\u001b[0;31m                 \u001b[0mraw\u001b[0m\u001b[0;34m,\u001b[0m \u001b[0mboundary\u001b[0m\u001b[0;34m,\u001b[0m \u001b[0mcytoplasm\u001b[0m \u001b[0;34m=\u001b[0m \u001b[0mtransform\u001b[0m\u001b[0;34m(\u001b[0m\u001b[0;34m[\u001b[0m\u001b[0mraw\u001b[0m\u001b[0;34m,\u001b[0m \u001b[0mboundary\u001b[0m\u001b[0;34m,\u001b[0m \u001b[0mcytoplasm\u001b[0m\u001b[0;34m]\u001b[0m\u001b[0;34m)\u001b[0m\u001b[0;34m\u001b[0m\u001b[0m\n\u001b[0m\u001b[1;32m     49\u001b[0m \u001b[0;34m\u001b[0m\u001b[0m\n\u001b[1;32m     50\u001b[0m             \u001b[0;31m# Change values to binary\u001b[0m\u001b[0;34m\u001b[0m\u001b[0;34m\u001b[0m\u001b[0m\n",
      "\u001b[0;32m<ipython-input-11-a162f6e9b2d2>\u001b[0m in \u001b[0;36m__call__\u001b[0;34m(self, imgs)\u001b[0m\n\u001b[1;32m     15\u001b[0m \u001b[0;34m\u001b[0m\u001b[0m\n\u001b[1;32m     16\u001b[0m     \u001b[0;32mdef\u001b[0m \u001b[0m__call__\u001b[0m\u001b[0;34m(\u001b[0m\u001b[0mself\u001b[0m\u001b[0;34m,\u001b[0m \u001b[0mimgs\u001b[0m\u001b[0;34m)\u001b[0m\u001b[0;34m:\u001b[0m\u001b[0;34m\u001b[0m\u001b[0m\n\u001b[0;32m---> 17\u001b[0;31m         \u001b[0mh\u001b[0m\u001b[0;34m,\u001b[0m \u001b[0mw\u001b[0m \u001b[0;34m=\u001b[0m \u001b[0mimgs\u001b[0m\u001b[0;34m[\u001b[0m\u001b[0;36m0\u001b[0m\u001b[0;34m]\u001b[0m\u001b[0;34m.\u001b[0m\u001b[0mshape\u001b[0m\u001b[0;34m\u001b[0m\u001b[0m\n\u001b[0m\u001b[1;32m     18\u001b[0m         \u001b[0mth\u001b[0m\u001b[0;34m,\u001b[0m \u001b[0mtw\u001b[0m \u001b[0;34m=\u001b[0m \u001b[0mself\u001b[0m\u001b[0;34m.\u001b[0m\u001b[0msize\u001b[0m\u001b[0;34m\u001b[0m\u001b[0m\n\u001b[1;32m     19\u001b[0m         \u001b[0;32mif\u001b[0m \u001b[0mw\u001b[0m \u001b[0;34m==\u001b[0m \u001b[0mtw\u001b[0m \u001b[0;32mand\u001b[0m \u001b[0mh\u001b[0m \u001b[0;34m==\u001b[0m \u001b[0mth\u001b[0m\u001b[0;34m:\u001b[0m\u001b[0;34m\u001b[0m\u001b[0m\n",
      "\u001b[0;31mAttributeError\u001b[0m: 'NoneType' object has no attribute 'shape'"
     ]
    }
   ],
   "source": [
    "import gc\n",
    "\n",
    "# Training loop\n",
    "experiment_dir = op.join(ROOT_DIR, EXPERIMENT_NAME)\n",
    "first_phase_dir = op.join(experiment_dir, 'first_train')\n",
    "\n",
    "if not op.exists(first_phase_dir):\n",
    "    os.makedirs(first_phase_dir)\n",
    "\n",
    "train_loader = DataLoader(train_directory, BATCH_SIZE)\n",
    "test_loader = DataLoader(test_directory, BATCH_SIZE)\n",
    "\n",
    "run(model, train_loader, test_loader, optimizer, criterion, first_phase_dir, watcher)\n",
    "\n",
    "torch.cuda.empty_cache()\n",
    "gc.collect()\n"
   ]
  },
  {
   "cell_type": "code",
   "execution_count": 25,
   "metadata": {
    "ExecuteTime": {
     "end_time": "2018-03-12T01:17:31.927238Z",
     "start_time": "2018-03-12T01:16:25.883270Z"
    },
    "scrolled": false
   },
   "outputs": [
    {
     "name": "stderr",
     "output_type": "stream",
     "text": [
      "/home/davince/anaconda3/lib/python3.6/site-packages/torch/nn/modules/loss.py:198: UserWarning: NLLLoss2d has been deprecated. Please use NLLLoss instead as a drop-in replacement and see http://pytorch.org/docs/master/nn.html#torch.nn.NLLLoss for more details.\n",
      "  warnings.warn(\"NLLLoss2d has been deprecated. \"\n",
      "\r",
      "  0%|          | 0/90 [00:00<?, ?it/s]"
     ]
    },
    {
     "name": "stdout",
     "output_type": "stream",
     "text": [
      "FINETUNING\n",
      "Epoch [0]\n"
     ]
    },
    {
     "name": "stderr",
     "output_type": "stream",
     "text": [
      "\n"
     ]
    },
    {
     "ename": "AttributeError",
     "evalue": "'NoneType' object has no attribute 'shape'",
     "output_type": "error",
     "traceback": [
      "\u001b[0;31m---------------------------------------------------------------------------\u001b[0m",
      "\u001b[0;31mAttributeError\u001b[0m                            Traceback (most recent call last)",
      "\u001b[0;32m<ipython-input-25-742069e432c2>\u001b[0m in \u001b[0;36m<module>\u001b[0;34m()\u001b[0m\n\u001b[1;32m     23\u001b[0m \u001b[0mtorch\u001b[0m\u001b[0;34m.\u001b[0m\u001b[0mcuda\u001b[0m\u001b[0;34m.\u001b[0m\u001b[0mempty_cache\u001b[0m\u001b[0;34m(\u001b[0m\u001b[0;34m)\u001b[0m\u001b[0;34m\u001b[0m\u001b[0m\n\u001b[1;32m     24\u001b[0m \u001b[0;34m\u001b[0m\u001b[0m\n\u001b[0;32m---> 25\u001b[0;31m \u001b[0mrun\u001b[0m\u001b[0;34m(\u001b[0m\u001b[0mmodel\u001b[0m\u001b[0;34m,\u001b[0m \u001b[0mtrain_loader\u001b[0m\u001b[0;34m,\u001b[0m \u001b[0mtest_loader\u001b[0m\u001b[0;34m,\u001b[0m \u001b[0moptimizer\u001b[0m\u001b[0;34m,\u001b[0m \u001b[0mcriterion\u001b[0m\u001b[0;34m,\u001b[0m \u001b[0mfinetuning_dir\u001b[0m\u001b[0;34m,\u001b[0m \u001b[0mwatcher\u001b[0m\u001b[0;34m)\u001b[0m\u001b[0;34m\u001b[0m\u001b[0m\n\u001b[0m",
      "\u001b[0;32m<ipython-input-22-9cc7e5dba9b9>\u001b[0m in \u001b[0;36mrun\u001b[0;34m(model, train_loader, test_loader, optimizer, criterion, weights_dir, watcher)\u001b[0m\n\u001b[1;32m      5\u001b[0m \u001b[0;34m\u001b[0m\u001b[0m\n\u001b[1;32m      6\u001b[0m         \u001b[0mprint\u001b[0m\u001b[0;34m(\u001b[0m\u001b[0;34m'Epoch [%d]'\u001b[0m \u001b[0;34m%\u001b[0m \u001b[0mepoch\u001b[0m\u001b[0;34m)\u001b[0m\u001b[0;34m\u001b[0m\u001b[0m\n\u001b[0;32m----> 7\u001b[0;31m         \u001b[0mtrain_loss\u001b[0m\u001b[0;34m,\u001b[0m \u001b[0mtrain_acc\u001b[0m \u001b[0;34m=\u001b[0m \u001b[0mtrain\u001b[0m\u001b[0;34m(\u001b[0m\u001b[0mmodel\u001b[0m\u001b[0;34m,\u001b[0m \u001b[0mtrain_loader\u001b[0m\u001b[0;34m,\u001b[0m \u001b[0moptimizer\u001b[0m\u001b[0;34m,\u001b[0m \u001b[0mcriterion\u001b[0m\u001b[0;34m)\u001b[0m\u001b[0;34m\u001b[0m\u001b[0m\n\u001b[0m\u001b[1;32m      8\u001b[0m         \u001b[0mtest_loss\u001b[0m\u001b[0;34m,\u001b[0m \u001b[0mtest_acc\u001b[0m \u001b[0;34m=\u001b[0m \u001b[0mtest\u001b[0m\u001b[0;34m(\u001b[0m\u001b[0mmodel\u001b[0m\u001b[0;34m,\u001b[0m \u001b[0mtest_loader\u001b[0m\u001b[0;34m,\u001b[0m \u001b[0mcriterion\u001b[0m\u001b[0;34m)\u001b[0m\u001b[0;34m\u001b[0m\u001b[0m\n\u001b[1;32m      9\u001b[0m \u001b[0;34m\u001b[0m\u001b[0m\n",
      "\u001b[0;32m<ipython-input-15-2f7b9445beda>\u001b[0m in \u001b[0;36mtrain\u001b[0;34m(model, loader, optimizer, criterion)\u001b[0m\n\u001b[1;32m     21\u001b[0m \u001b[0;34m\u001b[0m\u001b[0m\n\u001b[1;32m     22\u001b[0m     \u001b[0;32mwith\u001b[0m \u001b[0mtqdm\u001b[0m\u001b[0;34m(\u001b[0m\u001b[0mtotal\u001b[0m\u001b[0;34m=\u001b[0m\u001b[0mloader\u001b[0m\u001b[0;34m.\u001b[0m\u001b[0mbatch_num\u001b[0m\u001b[0;34m)\u001b[0m \u001b[0;32mas\u001b[0m \u001b[0mpbar\u001b[0m\u001b[0;34m:\u001b[0m\u001b[0;34m\u001b[0m\u001b[0m\n\u001b[0;32m---> 23\u001b[0;31m         \u001b[0;32mfor\u001b[0m \u001b[0mi\u001b[0m\u001b[0;34m,\u001b[0m \u001b[0mdata\u001b[0m \u001b[0;32min\u001b[0m \u001b[0menumerate\u001b[0m\u001b[0;34m(\u001b[0m\u001b[0mloader\u001b[0m\u001b[0;34m)\u001b[0m\u001b[0;34m:\u001b[0m\u001b[0;34m\u001b[0m\u001b[0m\n\u001b[0m\u001b[1;32m     24\u001b[0m             \u001b[0minputs\u001b[0m\u001b[0;34m,\u001b[0m \u001b[0mlabels\u001b[0m \u001b[0;34m=\u001b[0m \u001b[0mdata\u001b[0m\u001b[0;34m\u001b[0m\u001b[0m\n\u001b[1;32m     25\u001b[0m             \u001b[0minputs\u001b[0m\u001b[0;34m,\u001b[0m \u001b[0mlabels\u001b[0m \u001b[0;34m=\u001b[0m \u001b[0mVariable\u001b[0m\u001b[0;34m(\u001b[0m\u001b[0minputs\u001b[0m\u001b[0;34m)\u001b[0m\u001b[0;34m.\u001b[0m\u001b[0mcuda\u001b[0m\u001b[0;34m(\u001b[0m\u001b[0;34m)\u001b[0m\u001b[0;34m,\u001b[0m \u001b[0mVariable\u001b[0m\u001b[0;34m(\u001b[0m\u001b[0mlabels\u001b[0m\u001b[0;34m.\u001b[0m\u001b[0mlong\u001b[0m\u001b[0;34m(\u001b[0m\u001b[0;34m)\u001b[0m\u001b[0;34m)\u001b[0m\u001b[0;34m.\u001b[0m\u001b[0mcuda\u001b[0m\u001b[0;34m(\u001b[0m\u001b[0;34m)\u001b[0m\u001b[0;34m\u001b[0m\u001b[0m\n",
      "\u001b[0;32m<ipython-input-12-3c8a6eaa4cc3>\u001b[0m in \u001b[0;36m__iter__\u001b[0;34m(self)\u001b[0m\n\u001b[1;32m     70\u001b[0m             \u001b[0mshuffle\u001b[0m\u001b[0;34m(\u001b[0m\u001b[0mself\u001b[0m\u001b[0;34m.\u001b[0m\u001b[0mimages\u001b[0m\u001b[0;34m)\u001b[0m\u001b[0;34m\u001b[0m\u001b[0m\n\u001b[1;32m     71\u001b[0m         \u001b[0;32mfor\u001b[0m \u001b[0mi\u001b[0m \u001b[0;32min\u001b[0m \u001b[0mrange\u001b[0m\u001b[0;34m(\u001b[0m\u001b[0;36m0\u001b[0m\u001b[0;34m,\u001b[0m \u001b[0mlen\u001b[0m\u001b[0;34m(\u001b[0m\u001b[0mself\u001b[0m\u001b[0;34m.\u001b[0m\u001b[0mimages\u001b[0m\u001b[0;34m)\u001b[0m\u001b[0;34m,\u001b[0m \u001b[0mself\u001b[0m\u001b[0;34m.\u001b[0m\u001b[0mbatch_size\u001b[0m\u001b[0;34m)\u001b[0m\u001b[0;34m:\u001b[0m\u001b[0;34m\u001b[0m\u001b[0m\n\u001b[0;32m---> 72\u001b[0;31m             \u001b[0;32myield\u001b[0m \u001b[0mself\u001b[0m\u001b[0;34m.\u001b[0m\u001b[0m__load_data\u001b[0m\u001b[0;34m(\u001b[0m\u001b[0mself\u001b[0m\u001b[0;34m.\u001b[0m\u001b[0mimages\u001b[0m\u001b[0;34m[\u001b[0m\u001b[0mi\u001b[0m\u001b[0;34m:\u001b[0m \u001b[0mi\u001b[0m\u001b[0;34m+\u001b[0m\u001b[0mself\u001b[0m\u001b[0;34m.\u001b[0m\u001b[0mbatch_size\u001b[0m\u001b[0;34m]\u001b[0m\u001b[0;34m)\u001b[0m\u001b[0;34m\u001b[0m\u001b[0m\n\u001b[0m",
      "\u001b[0;32m<ipython-input-12-3c8a6eaa4cc3>\u001b[0m in \u001b[0;36m__load_data\u001b[0;34m(self, samples)\u001b[0m\n\u001b[1;32m     46\u001b[0m             \u001b[0;31m# apply transforms\u001b[0m\u001b[0;34m\u001b[0m\u001b[0;34m\u001b[0m\u001b[0m\n\u001b[1;32m     47\u001b[0m             \u001b[0;32mfor\u001b[0m \u001b[0mtransform\u001b[0m \u001b[0;32min\u001b[0m \u001b[0mself\u001b[0m\u001b[0;34m.\u001b[0m\u001b[0mtransforms\u001b[0m\u001b[0;34m:\u001b[0m\u001b[0;34m\u001b[0m\u001b[0m\n\u001b[0;32m---> 48\u001b[0;31m                 \u001b[0mraw\u001b[0m\u001b[0;34m,\u001b[0m \u001b[0mboundary\u001b[0m\u001b[0;34m,\u001b[0m \u001b[0mcytoplasm\u001b[0m \u001b[0;34m=\u001b[0m \u001b[0mtransform\u001b[0m\u001b[0;34m(\u001b[0m\u001b[0;34m[\u001b[0m\u001b[0mraw\u001b[0m\u001b[0;34m,\u001b[0m \u001b[0mboundary\u001b[0m\u001b[0;34m,\u001b[0m \u001b[0mcytoplasm\u001b[0m\u001b[0;34m]\u001b[0m\u001b[0;34m)\u001b[0m\u001b[0;34m\u001b[0m\u001b[0m\n\u001b[0m\u001b[1;32m     49\u001b[0m \u001b[0;34m\u001b[0m\u001b[0m\n\u001b[1;32m     50\u001b[0m             \u001b[0;31m# Change values to binary\u001b[0m\u001b[0;34m\u001b[0m\u001b[0;34m\u001b[0m\u001b[0m\n",
      "\u001b[0;32m<ipython-input-11-a162f6e9b2d2>\u001b[0m in \u001b[0;36m__call__\u001b[0;34m(self, imgs)\u001b[0m\n\u001b[1;32m     15\u001b[0m \u001b[0;34m\u001b[0m\u001b[0m\n\u001b[1;32m     16\u001b[0m     \u001b[0;32mdef\u001b[0m \u001b[0m__call__\u001b[0m\u001b[0;34m(\u001b[0m\u001b[0mself\u001b[0m\u001b[0;34m,\u001b[0m \u001b[0mimgs\u001b[0m\u001b[0;34m)\u001b[0m\u001b[0;34m:\u001b[0m\u001b[0;34m\u001b[0m\u001b[0m\n\u001b[0;32m---> 17\u001b[0;31m         \u001b[0mh\u001b[0m\u001b[0;34m,\u001b[0m \u001b[0mw\u001b[0m \u001b[0;34m=\u001b[0m \u001b[0mimgs\u001b[0m\u001b[0;34m[\u001b[0m\u001b[0;36m0\u001b[0m\u001b[0;34m]\u001b[0m\u001b[0;34m.\u001b[0m\u001b[0mshape\u001b[0m\u001b[0;34m\u001b[0m\u001b[0m\n\u001b[0m\u001b[1;32m     18\u001b[0m         \u001b[0mth\u001b[0m\u001b[0;34m,\u001b[0m \u001b[0mtw\u001b[0m \u001b[0;34m=\u001b[0m \u001b[0mself\u001b[0m\u001b[0;34m.\u001b[0m\u001b[0msize\u001b[0m\u001b[0;34m\u001b[0m\u001b[0m\n\u001b[1;32m     19\u001b[0m         \u001b[0;32mif\u001b[0m \u001b[0mw\u001b[0m \u001b[0;34m==\u001b[0m \u001b[0mtw\u001b[0m \u001b[0;32mand\u001b[0m \u001b[0mh\u001b[0m \u001b[0;34m==\u001b[0m \u001b[0mth\u001b[0m\u001b[0;34m:\u001b[0m\u001b[0;34m\u001b[0m\u001b[0m\n",
      "\u001b[0;31mAttributeError\u001b[0m: 'NoneType' object has no attribute 'shape'"
     ]
    }
   ],
   "source": [
    "# Finetuning\n",
    "\n",
    "LEARNING_RATE = 1e-4\n",
    "MAX_PATIENCE = 5\n",
    "BATCH_SIZE = 1\n",
    "\n",
    "optimizer = optim.RMSprop(model.parameters(), lr=LEARNING_RATE, weight_decay=WEIGHT_DECAY)\n",
    "criterion = nn.NLLLoss2d(weight = torch.FloatTensor([BACKGROUND_CLASS_WEIGHT,\n",
    "                                                     BOUNDARY_CLASS_WEIGHT,\n",
    "                                                     CYTOPLASM_CLASS_WEIGHT]).cuda())\n",
    "\n",
    "watcher = EarlyStoppingWatcher()\n",
    "\n",
    "train_loader = DataLoader(train_directory, BATCH_SIZE, size=(256, 256))\n",
    "test_loader = DataLoader(test_directory, BATCH_SIZE, size=(256, 256))\n",
    "\n",
    "finetuning_dir = op.join(experiment_dir, 'finetuning')\n",
    "\n",
    "if not op.exists(finetuning_dir):\n",
    "    os.makedirs(finetuning_dir)\n",
    "\n",
    "print('FINETUNING')\n",
    "torch.cuda.empty_cache()\n",
    "\n",
    "run(model, train_loader, test_loader, optimizer, criterion, finetuning_dir, watcher)\n"
   ]
  },
  {
   "cell_type": "markdown",
   "metadata": {},
   "source": [
    "## Visualize"
   ]
  },
  {
   "cell_type": "code",
   "execution_count": 13,
   "metadata": {
    "ExecuteTime": {
     "end_time": "2018-03-12T01:17:33.303755Z",
     "start_time": "2018-03-12T01:17:31.928753Z"
    },
    "scrolled": false
   },
   "outputs": [
    {
     "name": "stdout",
     "output_type": "stream",
     "text": [
      "('SAMPLE ', 0)\n"
     ]
    },
    {
     "name": "stderr",
     "output_type": "stream",
     "text": [
      "/usr/local/lib/python2.7/dist-packages/ipykernel_launcher.py:109: UserWarning: Implicit dimension choice for log_softmax has been deprecated. Change the call to include dim=X as an argument.\n"
     ]
    },
    {
     "data": {
      "image/png": "[encoded data removed]",
      "text/plain": [
       "<matplotlib.figure.Figure at 0x7f6f65f11b50>"
      ]
     },
     "metadata": {},
     "output_type": "display_data"
    },
    {
     "data": {
      "image/png": "[encoded data removed]",
      "text/plain": [
       "<matplotlib.figure.Figure at 0x7f6f439dfc90>"
      ]
     },
     "metadata": {},
     "output_type": "display_data"
    },
    {
     "name": "stdout",
     "output_type": "stream",
     "text": [
      "('SAMPLE ', 1)\n"
     ]
    },
    {
     "data": {
      "image/png": "[encoded data removed]",
      "text/plain": [
       "<matplotlib.figure.Figure at 0x7f6f18061190>"
      ]
     },
     "metadata": {},
     "output_type": "display_data"
    },
    {
     "data": {
      "image/png": "[encoded data removed]",
      "text/plain": [
       "<matplotlib.figure.Figure at 0x7f6eec081cd0>"
      ]
     },
     "metadata": {},
     "output_type": "display_data"
    },
    {
     "name": "stdout",
     "output_type": "stream",
     "text": [
      "('SAMPLE ', 2)\n"
     ]
    },
    {
     "data": {
      "image/png": "[encoded data removed]",
      "text/plain": [
       "<matplotlib.figure.Figure at 0x7f6ee415b190>"
      ]
     },
     "metadata": {},
     "output_type": "display_data"
    },
    {
     "data": {
      "image/png": "[encoded data removed]",
      "text/plain": [
       "<matplotlib.figure.Figure at 0x7f6eec090050>"
      ]
     },
     "metadata": {},
     "output_type": "display_data"
    },
    {
     "name": "stdout",
     "output_type": "stream",
     "text": [
      "('SAMPLE ', 3)\n"
     ]
    },
    {
     "data": {
      "image/png": "[encoded data removed]",
      "text/plain": [
       "<matplotlib.figure.Figure at 0x7f6ee41bbad0>"
      ]
     },
     "metadata": {},
     "output_type": "display_data"
    },
    {
     "data": {
      "image/png": "[encoded data removed]",
      "text/plain": [
       "<matplotlib.figure.Figure at 0x7f6ee40f7d90>"
      ]
     },
     "metadata": {},
     "output_type": "display_data"
    },
    {
     "name": "stdout",
     "output_type": "stream",
     "text": [
      "('SAMPLE ', 4)\n"
     ]
    },
    {
     "data": {
      "image/png": "[encoded data removed]",
      "text/plain": [
       "<matplotlib.figure.Figure at 0x7f6ee403cf50>"
      ]
     },
     "metadata": {},
     "output_type": "display_data"
    },
    {
     "data": {
      "image/png": "[encoded data removed]",
      "text/plain": [
       "<matplotlib.figure.Figure at 0x7f6ec9f5f7d0>"
      ]
     },
     "metadata": {},
     "output_type": "display_data"
    }
   ],
   "source": [
    "import matplotlib.pyplot as plt\n",
    "\n",
    "model.eval()\n",
    "    \n",
    "loader_iter = iter(test_loader)\n",
    "for i in range(5):\n",
    "    data = next(loader_iter)\n",
    "    \n",
    "    inputs, labels = data\n",
    "    inputs = Variable(inputs).cuda()\n",
    "            \n",
    "    outputs = model(inputs)            \n",
    "    \n",
    "    preds = np.squeeze(np.array(get_predictions(outputs)))\n",
    "    gt = np.squeeze(np.array(labels))\n",
    "    \n",
    "    print('SAMPLE ', i)\n",
    "    \n",
    "    preds[np.where(preds == 1)] = 255\n",
    "    preds[np.where(preds == 2)] = 100\n",
    "    \n",
    "    gt[np.where(gt == 1)] = 255\n",
    "    gt[np.where(gt == 2)] = 100\n",
    "    \n",
    "    torch.cuda.empty_cache()\n",
    "        \n",
    "    plt.imshow(preds, 'gray')\n",
    "    plt.show()\n",
    "    \n",
    "    plt.imshow(gt, 'gray')\n",
    "    plt.show()"
   ]
  },
  {
   "cell_type": "code",
   "execution_count": null,
   "metadata": {
    "collapsed": true
   },
   "outputs": [],
   "source": []
  }
 ],
 "metadata": {
  "anaconda-cloud": {},
  "kernelspec": {
   "display_name": "Python 2",
   "language": "python",
   "name": "python2"
  },
  "language_info": {
   "codemirror_mode": {
    "name": "ipython",
    "version": 3
   },
   "file_extension": ".py",
   "mimetype": "text/x-python",
   "name": "python",
   "nbconvert_exporter": "python",
   "pygments_lexer": "ipython3",
   "version": "3.6.4"
  }
 },
 "nbformat": 4,
 "nbformat_minor": 2
}
